{
 "cells": [
  {
   "cell_type": "code",
   "execution_count": 1,
   "metadata": {
    "collapsed": false
   },
   "outputs": [
    {
     "name": "stderr",
     "output_type": "stream",
     "text": [
      "Using TensorFlow backend.\n"
     ]
    }
   ],
   "source": [
    "%load_ext autoreload\n",
    "%autoreload 1\n",
    "%aimport util_csv\n",
    "%aimport util_image\n",
    "%aimport runner"
   ]
  },
  {
   "cell_type": "markdown",
   "metadata": {},
   "source": [
    "## Imports"
   ]
  },
  {
   "cell_type": "code",
   "execution_count": 2,
   "metadata": {
    "collapsed": false
   },
   "outputs": [],
   "source": [
    "from runner import *\n",
    "from util_image import *\n",
    "from util_csv import NewFileName\n",
    "from runner import DataBase as DB\n",
    "from Timer import Timer \n",
    "\n",
    "import numpy as np\n",
    "import pandas as pd\n",
    "import matplotlib.pyplot as plt"
   ]
  },
  {
   "cell_type": "code",
   "execution_count": 3,
   "metadata": {
    "collapsed": false,
    "scrolled": false
   },
   "outputs": [],
   "source": [
    "def compute_hist(dataset, bins=300, verbose=True, top=0, returnSortedInds=False):\n",
    "\n",
    "    def vprint(string): \n",
    "        if verbose: print(string)\n",
    "    \n",
    "    '''\n",
    "        Computes data histogram.\n",
    "        Returns: \n",
    "            dhist  : bin counts\n",
    "            dbins  : bin boundaries\n",
    "            sortInd: bin count indices in ascending order\n",
    "    '''\n",
    "    returnTopKInds = top > 0\n",
    "    dhist, dbins = np.histogram(dataset, bins=bins)\n",
    "    sortInd = (-1*dhist).argsort()\n",
    "    \n",
    "    vprint(\"{:5s} :          Ranges\".format(\"Count\"))\n",
    "    topK = []\n",
    "    for i in range(max(0,top)): \n",
    "        ind = sortInd[i] #[-(i+1)]\n",
    "        cnt = dhist[ind]\n",
    "        vprint(\"{:5d} : [ {: 5.5f}, {: 5.5f} ]\".format(cnt, dbins[ind], dbins[ind+1]))\n",
    "        topK.append([cnt, dbins[ind], dbins[ind+1]])\n",
    "    \n",
    "    ret = (dhist, dbins)    \n",
    "    if returnTopKInds: ret = ret + (topK, )\n",
    "    if returnSortedInds: ret = ret + (sortInd, )\n",
    "    return ret\n",
    "    \n",
    "def show_data_distribution(dhist, dbins):\n",
    "    ax = plt.plot(dbins[:-1],dhist)\n",
    "    plt.grid('on')\n",
    "    plt.show()"
   ]
  },
  {
   "cell_type": "markdown",
   "metadata": {},
   "source": [
    "### Data Input"
   ]
  },
  {
   "cell_type": "code",
   "execution_count": 4,
   "metadata": {
    "collapsed": false
   },
   "outputs": [
    {
     "name": "stdout",
     "output_type": "stream",
     "text": [
      "---------------------------------------------------------------\n",
      "elapsed time: 10.981 secs\n",
      "---------------------------------------------------------------\n",
      "Count :          Ranges\n"
     ]
    },
    {
     "data": {
      "image/png": "[encoded data removed]",
      "text/plain": [
       "<matplotlib.figure.Figure at 0x7f309d7029e8>"
      ]
     },
     "metadata": {},
     "output_type": "display_data"
    },
    {
     "data": {
      "text/html": [
       "<div>\n",
       "<table border=\"1\" class=\"dataframe\">\n",
       "  <thead>\n",
       "    <tr style=\"text-align: right;\">\n",
       "      <th></th>\n",
       "      <th>steer</th>\n",
       "      <th>gas</th>\n",
       "      <th>brake</th>\n",
       "      <th>speed</th>\n",
       "    </tr>\n",
       "  </thead>\n",
       "  <tbody>\n",
       "    <tr>\n",
       "      <th>count</th>\n",
       "      <td>8036.000000</td>\n",
       "      <td>8036.000000</td>\n",
       "      <td>8036.000000</td>\n",
       "      <td>8036.000000</td>\n",
       "    </tr>\n",
       "    <tr>\n",
       "      <th>mean</th>\n",
       "      <td>0.004070</td>\n",
       "      <td>0.869660</td>\n",
       "      <td>0.001970</td>\n",
       "      <td>28.169839</td>\n",
       "    </tr>\n",
       "    <tr>\n",
       "      <th>std</th>\n",
       "      <td>0.128840</td>\n",
       "      <td>0.301326</td>\n",
       "      <td>0.036565</td>\n",
       "      <td>6.149327</td>\n",
       "    </tr>\n",
       "    <tr>\n",
       "      <th>min</th>\n",
       "      <td>-0.942695</td>\n",
       "      <td>0.000000</td>\n",
       "      <td>0.000000</td>\n",
       "      <td>0.502490</td>\n",
       "    </tr>\n",
       "    <tr>\n",
       "      <th>25%</th>\n",
       "      <td>0.000000</td>\n",
       "      <td>0.985533</td>\n",
       "      <td>0.000000</td>\n",
       "      <td>30.183093</td>\n",
       "    </tr>\n",
       "    <tr>\n",
       "      <th>50%</th>\n",
       "      <td>0.000000</td>\n",
       "      <td>0.985533</td>\n",
       "      <td>0.000000</td>\n",
       "      <td>30.186400</td>\n",
       "    </tr>\n",
       "    <tr>\n",
       "      <th>75%</th>\n",
       "      <td>0.000000</td>\n",
       "      <td>0.985533</td>\n",
       "      <td>0.000000</td>\n",
       "      <td>30.186640</td>\n",
       "    </tr>\n",
       "    <tr>\n",
       "      <th>max</th>\n",
       "      <td>1.000000</td>\n",
       "      <td>0.985533</td>\n",
       "      <td>1.000000</td>\n",
       "      <td>30.709360</td>\n",
       "    </tr>\n",
       "  </tbody>\n",
       "</table>\n",
       "</div>"
      ],
      "text/plain": [
       "             steer          gas        brake        speed\n",
       "count  8036.000000  8036.000000  8036.000000  8036.000000\n",
       "mean      0.004070     0.869660     0.001970    28.169839\n",
       "std       0.128840     0.301326     0.036565     6.149327\n",
       "min      -0.942695     0.000000     0.000000     0.502490\n",
       "25%       0.000000     0.985533     0.000000    30.183093\n",
       "50%       0.000000     0.985533     0.000000    30.186400\n",
       "75%       0.000000     0.985533     0.000000    30.186640\n",
       "max       1.000000     0.985533     1.000000    30.709360"
      ]
     },
     "execution_count": 4,
     "metadata": {},
     "output_type": "execute_result"
    }
   ],
   "source": [
    "data_path =  'data/org'\n",
    "\n",
    "data = Timer.run(lambda :DB.CreateFromFile('data/org'))\n",
    "data_path = data.params[BaseDir]\n",
    "\n",
    "show_data_distribution(*compute_hist(data.steer))\n",
    "data.describe()\n"
   ]
  },
  {
   "cell_type": "markdown",
   "metadata": {},
   "source": [
    "## Pre-Process"
   ]
  },
  {
   "cell_type": "markdown",
   "metadata": {},
   "source": [
    "Take 5% of the most occuring data"
   ]
  },
  {
   "cell_type": "code",
   "execution_count": 5,
   "metadata": {
    "collapsed": false
   },
   "outputs": [
    {
     "name": "stdout",
     "output_type": "stream",
     "text": [
      "Count :          Ranges\n",
      " 4440 : [ -0.00373,  0.00275 ]\n",
      "  237 : [  0.17112,  0.17759 ]\n",
      "  179 : [ -0.14619, -0.13971 ]\n",
      "len BA = 4440, n = 4107, maxInds = 8035\n",
      "Count :          Ranges\n"
     ]
    },
    {
     "data": {
      "image/png": "[encoded data removed]",
      "text/plain": [
       "<matplotlib.figure.Figure at 0x7f309d4f7898>"
      ]
     },
     "metadata": {},
     "output_type": "display_data"
    }
   ],
   "source": [
    "from random import sample\n",
    "\n",
    "_,_,rngs = compute_hist(data.steer, top=3)\n",
    "\n",
    "inds_within_range = (data.steer >= rngs[0][1]) & (data.steer <= rngs[0][2]) \n",
    "dataSmall = data.grab(inds_within_range,pcent=0.075)\n",
    "show_data_distribution(*compute_hist(dataSmall.steer))"
   ]
  },
  {
   "cell_type": "markdown",
   "metadata": {},
   "source": [
    "## Add Flipped Images"
   ]
  },
  {
   "cell_type": "code",
   "execution_count": 8,
   "metadata": {
    "collapsed": false,
    "scrolled": true
   },
   "outputs": [
    {
     "name": "stdout",
     "output_type": "stream",
     "text": [
      "Count :          Ranges\n"
     ]
    },
    {
     "data": {
      "image/png": "[encoded data removed]",
      "text/plain": [
       "<matplotlib.figure.Figure at 0x7f309d44fdd8>"
      ]
     },
     "metadata": {},
     "output_type": "display_data"
    },
    {
     "name": "stdout",
     "output_type": "stream",
     "text": [
      "Count :          Ranges\n"
     ]
    },
    {
     "data": {
      "image/png": "[encoded data removed]",
      "text/plain": [
       "<matplotlib.figure.Figure at 0x7f309d41b2b0>"
      ]
     },
     "metadata": {},
     "output_type": "display_data"
    },
    {
     "name": "stdout",
     "output_type": "stream",
     "text": [
      "Count :          Ranges\n"
     ]
    },
    {
     "data": {
      "image/png": "[encoded data removed]",
      "text/plain": [
       "<matplotlib.figure.Figure at 0x7f309cc2a780>"
      ]
     },
     "metadata": {},
     "output_type": "display_data"
    },
    {
     "name": "stdout",
     "output_type": "stream",
     "text": [
      "Count :          Ranges\n"
     ]
    },
    {
     "data": {
      "image/png": "[encoded data removed]",
      "text/plain": [
       "<matplotlib.figure.Figure at 0x7f309cce6940>"
      ]
     },
     "metadata": {},
     "output_type": "display_data"
    }
   ],
   "source": [
    "flipped = AddFlippedImages(dataSmall, skip_range=(-0.05, 0.05))\n",
    "show_data_distribution(*compute_hist(flipped.steer, bins=300))\n",
    "\n",
    "for d in [data.steer, dataSmall.steer, flipped.steer]:\n",
    "    bins = 100\n",
    "    d.hist(bins=bins)\n",
    "    show_data_distribution(*compute_hist(d, bins=bins))\n"
   ]
  },
  {
   "cell_type": "code",
   "execution_count": null,
   "metadata": {
    "collapsed": true
   },
   "outputs": [],
   "source": []
  },
  {
   "cell_type": "code",
   "execution_count": null,
   "metadata": {
    "collapsed": false
   },
   "outputs": [],
   "source": []
  },
  {
   "cell_type": "markdown",
   "metadata": {},
   "source": [
    "## Train"
   ]
  },
  {
   "cell_type": "code",
   "execution_count": 58,
   "metadata": {
    "collapsed": false,
    "scrolled": true
   },
   "outputs": [],
   "source": [
    "from os.path import join, abspath, basename, dirname, exists, splitext, isdir, isfile\n",
    "import json\n",
    "import sys\n",
    "def save_logs(res, logfile):\n",
    "    with open(logfile, 'w') as fp:\n",
    "        fp.write(\"Model Summary\\n\")\n",
    "        oldstdout = sys.stdout\n",
    "        sys.stdout = fp\n",
    "        res.model.summary()\n",
    "        fp.flush()\n",
    "        sys.stdout = oldstdout\n",
    "        fp.write(\"\\n\\n\\n\")        \n",
    "        fp.write(\"History\\n\")\n",
    "\n",
    "        i = 1\n",
    "        fp.write('Epoch:    {:5s} \\t{:5s} \\t{:5s} \\t{:5s} \\n'.format(*tuple(res.history.keys())))\n",
    "        for cc in zip(*res.history.values()):\n",
    "            fp.write('{:2d}: \\t{:5.5f} \\t{:5.5f} \\t{:5.5f} \\t{:5.5f} \\n'.format(i, *cc))\n",
    "            i+=1\n",
    "            \n",
    "def save_result(res, path):\n",
    "    path = splitext(path)[0]\n",
    "    path = NewFileName(path)\n",
    "    name = basename(path)\n",
    "    \n",
    "    logfile = join(path, 'log.txt')\n",
    "    arch    = join(path, 'arch.json')\n",
    "    weights = join(path, 'weights.h5')\n",
    "    full    = join(path, 'model.h5')\n",
    "\n",
    "    save_logs(res, logfile)\n",
    "    res.model.save_weights(weights)\n",
    "    res.model.save(full)\n",
    "    with open(arch,'w') as fp: fp.write(model.to_json())\n",
    "        \n",
    "    return (logfile, arch, weights, full)"
   ]
  },
  {
   "cell_type": "code",
   "execution_count": null,
   "metadata": {
    "collapsed": false,
    "scrolled": false
   },
   "outputs": [
    {
     "name": "stderr",
     "output_type": "stream",
     "text": [
      "/home/carnd/p3/runner.py:304: UserWarning: Update your `Conv2D` call to the Keras 2 API: `Conv2D(16, (8, 8), padding=\"same\", strides=(4, 4))`\n",
      "  model.add(Convolution2D(16, 8, 8, subsample=(4, 4), border_mode=\"same\"))\n",
      "/home/carnd/p3/runner.py:308: UserWarning: Update your `Conv2D` call to the Keras 2 API: `Conv2D(32, (5, 5), padding=\"same\", strides=(2, 2))`\n",
      "  model.add(Convolution2D(32, 5, 5, subsample=(2, 2), border_mode=\"same\"))\n",
      "/home/carnd/p3/runner.py:312: UserWarning: Update your `Conv2D` call to the Keras 2 API: `Conv2D(64, (5, 5), padding=\"same\", strides=(2, 2))`\n",
      "  model.add(Convolution2D(64, 5, 5, subsample=(2, 2), border_mode=\"same\"))\n"
     ]
    },
    {
     "name": "stdout",
     "output_type": "stream",
     "text": [
      "_________________________________________________________________\n",
      "Layer (type)                 Output Shape              Param #   \n",
      "=================================================================\n",
      "cropping2d_5 (Cropping2D)    (None, 80, 320, 3)        0         \n",
      "_________________________________________________________________\n",
      "lambda_5 (Lambda)            (None, 80, 320, 3)        0         \n",
      "_________________________________________________________________\n",
      "conv2d_11 (Conv2D)           (None, 20, 80, 16)        3088      \n",
      "_________________________________________________________________\n",
      "elu_21 (ELU)                 (None, 20, 80, 16)        0         \n",
      "_________________________________________________________________\n",
      "conv2d_12 (Conv2D)           (None, 10, 40, 32)        12832     \n",
      "_________________________________________________________________\n",
      "elu_22 (ELU)                 (None, 10, 40, 32)        0         \n",
      "_________________________________________________________________\n",
      "conv2d_13 (Conv2D)           (None, 5, 20, 64)         51264     \n",
      "_________________________________________________________________\n",
      "flatten_5 (Flatten)          (None, 6400)              0         \n",
      "_________________________________________________________________\n",
      "dropout_9 (Dropout)          (None, 6400)              0         \n",
      "_________________________________________________________________\n",
      "elu_23 (ELU)                 (None, 6400)              0         \n",
      "_________________________________________________________________\n",
      "dense_15 (Dense)             (None, 512)               3277312   \n",
      "_________________________________________________________________\n",
      "dropout_10 (Dropout)         (None, 512)               0         \n",
      "_________________________________________________________________\n",
      "elu_24 (ELU)                 (None, 512)               0         \n",
      "_________________________________________________________________\n",
      "dense_16 (Dense)             (None, 50)                25650     \n",
      "_________________________________________________________________\n",
      "elu_25 (ELU)                 (None, 50)                0         \n",
      "_________________________________________________________________\n",
      "dense_17 (Dense)             (None, 1)                 51        \n",
      "=================================================================\n",
      "Total params: 3,370,197\n",
      "Trainable params: 3,370,197\n",
      "Non-trainable params: 0\n",
      "_________________________________________________________________\n",
      "---------------------------------------------------------------\n",
      "elapsed time: 5.172 secs\n",
      "---------------------------------------------------------------\n"
     ]
    },
    {
     "name": "stderr",
     "output_type": "stream",
     "text": [
      "/home/carnd/anaconda3/envs/carnd-term1/lib/python3.5/site-packages/keras/models.py:837: UserWarning: The `nb_epoch` argument in `fit` has been renamed `epochs`.\n",
      "  warnings.warn('The `nb_epoch` argument in `fit` '\n"
     ]
    },
    {
     "name": "stdout",
     "output_type": "stream",
     "text": [
      "Train on 5667 samples, validate on 1417 samples\n",
      "Epoch 1/30\n",
      "5667/5667 [==============================] - 8s - loss: 0.0450 - acc: 0.0579 - val_loss: 0.0354 - val_acc: 0.0000e+00\b\b\b\b\b\b\b\b\b\b\b\b\b\b\b\b\b\b\b\b\b\b\b\b\b\b\b\b\b\b\b\b\b\b\b\b\b\b\b\b\b\b\b\b\b\b\b\b\b\b\b\b\b\b\b\b\b\b\b\b\b\b\b\b\b\b\b\b\b\b\b\b\b\b\b\b\b\b\b\b\b\b\b\b\b\b\b\b\b\b\b\b\b\b\b\b\b\b\b\b\b\b\b\b\b\b\b\b\b\b\b\b\b\b\b\b\b\b\b\b\b\b\b\b\b\b\b\b\b\b\b\b\b\b\b\b\b\b\b\b\b\b\b\b\b\b\b\b\b\b\b\b\b\b\b\b\b\b\b\b\b\b\b\b\b\b\b\b\b\b\b\b\b\b\b\b\b\b\b\b\b\b\b\b\b\b\b\b\b\b\b\b\b\b\b\b\b\b\b\b\b\b\b\b\b\b\b\b\b\b\b\b\b\b\b\b\b\b\b\b\b\b\b\b\b\b\b\b\b\b\b\b\b\b\b\b\b\b\b\b\b\b\b\b\b\b\b\b\b\b\b\b\b\b\b\b\b\b\b\b\b\b\b\b\b\b\b\b\b\b\b\b\b\b\b\b\b\b\b\b\b\b\b\b\b\b\b\b\b\b\b\b\b\b\b\b\b\b\b\b\b\b\b\b\b\b\b\b\b\b\b\b\b\b\b\b\b\b\b\b\b\b\b\b\b\b\b\b\b\b\b\b\b\b\b\b\b\b\b\b\b\b\b\b\b\b\b\b\b\b\b\b\b\b\b\b\b\b\b\b\b\b\b\b\b\b\b\b\b\b\b\b\b\b\b\b\b\b\b\b\b\b\b\b\b\b\b\b\b\b\b\b\b\b\b\b\b\b\b\b\b\b\b\b\b\b\b\b\b\b\b\b\b\b\b\b\b\b\b\b\b\b\b\b\b\b\b\b\b\b\b\b\b\b\b\b\b\b\b\b\b\b\b\b\b\b\b\b\b\b\b\b\b\b\b\b\b\b\b\b\b\b\b\b\b\b\b\b\b\b\b\b\b\b\b\b\b\b\b\b\b\b\b\b\b\b\b\b\b\b\b\b\b\b\b\b\b\b\b\b\b\b\b\b\b\b\b\b\b\b\b\b\b\b\b\b\b\b\b\b\b\b\b\b\b\b\b\b\b\b\b\b\b\b\b\b\b\b\b\b\b\b\b\b\b\b\b\b\b\b\b\b\b\b\b\b\b\b\b\b\b\b\b\b\b\b\b\b\b\b\b\b\b\b\b\b\b\b\b\b\b\b\b\b\b\b\b\b\b\b\b\b\b\b\b\b\b\b\b\b\b\b\b\b\b\b\b\b\b\b\b\b\b\b\b\b\b\b\b\b\b\b\b\b\b\b\b\b\b\b\b\b\b\b\b\b\b\b\b\b\b\b\b\b\b\b\b\b\b\b\b\b\b\b\b\b\b\b\b\b\b\b\b\b\b\b\b\b\b\b\b\b\b\b\b\b\b\b\b\b\b\b\b\b\b\b\b\b\b\b\b\b\b\b\b\b\b\b\b\b\b\b\b\b\b\b\b\b\b\b\b\b\b\b\b\b\b\b\b\b\b\b\b\b\b\b\b\b\b\b\b\b\b\b\b\b\b\b\b\b\b\b\b\b\b\b\b\b\b\b\b\b\b\b\b\b\b\b\b\b\b\b\b\b\b\b\b\b\b\b\b\b\b\b\b\b\b\b\b\b\b\b\b\b\b\b\b\b\b\b\b\b\b\b\b\b\b\b\b\b\b\b\b\b\b\b\b\b\b\b\b\b\b\b\b\b\b\b\b\b\b\b\b\b\b\b\b\b\b\b\b\b\b\b\b\b\b\b\b\b\b\b\b\b\b\b\b\b\b\b\b\b\b\b\b\b\b\b\b\b\b\b\b\b\b\b\b\b\b\b\b\b\b\b\b\b\b\b\b\b\b\b\b\b\b\b\b\b\b\b\b\b\b\b\b\b\b\b\b\b\b\b\b\b\b\b\b\b\b\b\b\b\b\b\b\b\b\b\b\b\b\b\b\b\b\b\b\b\b\b\b\b\b\b\b\b\b\b\b\b\b\b\b\b\b\b\b\b\b\b\b\b\b\b\b\b\b\b\b\b\b\b\b\b\b\b\b\b\b\b\b\b\b\b\b\b\b\b\b\b\b\b\b\b\b\b\b\b\b\b\b\b\b\b\b\b\b\b\b\b\b\b\b\b\b\b\b\b\b\b\b\b\b\b\b\b\b\b\b\b\b\b\b\b\b\b\b\b\b\b\b\b\b\b\b\b\b\b\b\b\b\b\b\b\b\b\b\b\b\b\b\b\b\b\b\b\b\b\b\b\b\b\b\b\b\b\b\b\b\b\b\b\b\b\b\b\b\b\b\b\b\b\b\b\b\b\b\b\b\b\b\b\b\b\b\b\b\b\b\b\b\b\b\b\b\b\b\b\b\b\b\b\b\b\b\b\b\b\b\b\b\b\b\b\b\b\b\b\b\b\b\b\b\b\b\b\b\b\b\b\b\b\b\b\b\b\b\b\b\b\b\b\b\b\b\b\b\b\b\b\b\b\b\b\b\b\b\b\b\b\b\b\b\b\b\b\b\b\b\b\b\b\b\b\b\b\b\b\b\b\b\b\b\b\b\b\b\b\b\b\b\b\b\b\b\b\b\b\b\b\b\b\b\b\b\b\b\b\b\b\b\b\b\b\b\b\b\b\b\b\b\b\b\b\b\b\b\b\b\b\b\b\b\b\b\b\b\b\b\b\b\b\b\b\b\b\b\b\b\b\b\b\b\b\b\b\b\b\b\b\b\b\b\b\b\b\b\b\b\b\b\b\b\b\b\b\b\b\b\b\b\b\b\b\b\b\b\b\b\b\b\b\b\b\b\b\b\b\b\b\b\b\b\b\b\b\b\b\b\b\b\b\b\b\b\b\b\b\b\b\b\b\b\b\b\b\b\b\b\b\b\b\b\b\b\b\b\b\b\b\b\b\b\b\b\b\b\b\b\b\b\b\b\b\b\b\b\b\b\b\b\b\b\b\b\b\b\b\b\b\b\b\b\b\b\b\b\b\b\b\b\b\b\b\b\b\b\b\b\b\b\b\b\b\b\b\b\b\b\b\b\b\b\b\b\b\b\b\b\b\b\b\b\b\b\b\b\b\b\b\b\b\b\b\b\b\b\b\b\b\b\b\b\b\b\b\b\b\b\b\b\b\b\b\b\b\b\b\b\b\b\b\b\b\b\b\b\b\b\b\b\b\b\b\b\b\b\b\b\b\b\b\b\b\b\b\b\b\b\b\b\b\b\b\b\b\b\b\b\b\b\b\b\b\b\b\b\b\b\b\b\b\b\b\b\b\b\b\b\b\b\b\b\b\b\b\b\b\b\b\b\b\b\b\b\b\b\b\b\b\b\b\b\b\b\b\b\b\b\b\b\b\b\b\b\b\b\b\b\b\b\b\b\b\b\b\b\b\b\b\b\b\b\b\b\b\b\b\b\b\b\b\b\b\b\b\b\b\b\b\b\b\b\b\b\b\b\b\b\b\b\b\b\b\b\b\b\b\b\b\b\b\b\b\b\b\b\b\b\b\b\b\b\b\b\b\b\b\b\b\b\b\b\b\b\b\b\b\b\b\b\b\b\b\b\b\b\b\b\b\b\b\b\b\b\b\b\b\b\b\b\b\b\b\b\b\b\b\b\b\b\b\b\b\b\b\b\b\b\b\b\b\b\b\b\b\b\b\b\b\b\b\b\b\b\b\b\b\b\b\b\b\b\b\b\b\b\b\b\b\b\b\b\b\b\b\b\b\b\b\b\b\b\b\b\b\b\b\b\b\b\b\b\b\b\b\b\b\b\b\b\b\b\b\b\b\b\b\b\b\b\n",
      "Epoch 2/30\n",
      "1792/5667 [========>.....................] - ETA: 3s - loss: 0.0291 - acc: 0.0575\b\b\b\b\b\b\b\b\b\b\b\b\b\b\b\b\b\b\b\b\b\b\b\b\b\b\b\b\b\b\b\b\b\b\b\b\b\b\b\b\b\b\b\b\b\b\b\b\b\b\b\b\b\b\b\b\b\b\b\b\b\b\b\b\b\b\b\b\b\b\b\b\b\b\b\b\b\b\b\b\b\b\b\b\b\b\b\b\b\b\b\b\b\b\b\b\b\b\b\b\b\b\b\b\b\b\b\b\b\b\b\b\b\b\b\b\b\b\b\b\b\b\b\b\b\b\b\b\b\b\b\b\b\b\b\b\b\b\b\b\b\b\b\b\b\b\b\b\b\b\b\b\b\b\b\b\b\b\b\b\b\b\b\b\b\b\b\b\b\b\b\b\b\b\b\b\b\b\b\b\b\b\b\b\b\b\b\b\b\b\b\b\b\b\b\b\b\b\b\b\b\b\b\b\b\b\b\b\b\b\b\b\b\b\b\b\b\b\b\b\b\b\b\b\b\b\b\b\b\b\b\b\b\b\b\b\b\b\b\b\b\b\b\b\b\b\b\b\b\b\b\b\b\b\b\b\b\b\b\b\b\b\b\b\b\b\b\b\b\b\b\b\b\b\b\b\b\b\b\b\b\b\b\b\b\b\b\b\b\b\b\b\b\b\b\b\b\b\b\b\b\b\b\b\b\b\b\b\b\b\b\b\b\b\b\b\b\b\b\b\b\b\b\b\b\b\b\b\b\b\b\b\b\b\b\b\b\b\b\b\b\b\b\b\b\b\b\b\b\b\b\b\b\b\b\b\b\b\b\b\b\b\b\b\b\b\b\b\b\b\b\b\b\b\b\b\b\b\b\b\b\b\b\b\b\b\b\b\b\b\b\b\b\b\b\b\b\b\b\b\b\b\b\b\b\b\b\b\b\b\b\b\b\b\b\b\b\b\b\b\b\b\b\b\b\b\b\b\b\b\b\b\b\b\b\b\b\b\b\b\b\b\b\b\b\b\b\b\b\b\b\b\b\b\b\b\b\b\b\b\b\b\b\b\b\b\b\b\b\b\b\b\b\b\b\b\b\b\b\b\b\b\b\b\b\b"
     ]
    }
   ],
   "source": [
    "# root = 'models/model_nv1.h5'\n",
    "# path=NewFileName(root)\n",
    "# tr = Timer.run(lambda: NVidia1(flipped))\n",
    "# res = Timer.run(lambda: tr.train(batch_size=256, path=path))\n",
    "\n",
    "# print(\"Model Saved At: \" + path)\n",
    "\n",
    "\n",
    "root = 'models/model_nv2.h5'\n",
    "path=NewFileName(root)\n",
    "tr = Timer.run(lambda: NVidia2(flipped))\n",
    "res = Timer.run(lambda: tr.train(batch_size=256, epoch=30, path=path))\n",
    "\n",
    "save_result(res, root)\n",
    "\n",
    "print(\"Model Saved At: \" + path)\n",
    "\n",
    "\n",
    "\n",
    "# path=NewFileName('models/model_nf.h5')\n",
    "# tr = Timer.run(lambda:NVidia(dataSmall))\n",
    "# res = Timer.run(lambda: tr.train(epoch=15, verbose=1, path=path))\n",
    "\n",
    "# print(\"Model Saved At: \" + path)"
   ]
  },
  {
   "cell_type": "code",
   "execution_count": 55,
   "metadata": {
    "collapsed": false
   },
   "outputs": [
    {
     "name": "stdout",
     "output_type": "stream",
     "text": [
      "_________________________________________________________________\n",
      "Layer (type)                 Output Shape              Param #   \n",
      "=================================================================\n",
      "cropping2d_4 (Cropping2D)    (None, 80, 320, 3)        0         \n",
      "_________________________________________________________________\n",
      "lambda_4 (Lambda)            (None, 80, 320, 3)        0         \n",
      "_________________________________________________________________\n",
      "conv2d_8 (Conv2D)            (None, 20, 80, 16)        3088      \n",
      "_________________________________________________________________\n",
      "elu_16 (ELU)                 (None, 20, 80, 16)        0         \n",
      "_________________________________________________________________\n",
      "conv2d_9 (Conv2D)            (None, 10, 40, 32)        12832     \n",
      "_________________________________________________________________\n",
      "elu_17 (ELU)                 (None, 10, 40, 32)        0         \n",
      "_________________________________________________________________\n",
      "conv2d_10 (Conv2D)           (None, 5, 20, 64)         51264     \n",
      "_________________________________________________________________\n",
      "flatten_4 (Flatten)          (None, 6400)              0         \n",
      "_________________________________________________________________\n",
      "dropout_7 (Dropout)          (None, 6400)              0         \n",
      "_________________________________________________________________\n",
      "elu_18 (ELU)                 (None, 6400)              0         \n",
      "_________________________________________________________________\n",
      "dense_12 (Dense)             (None, 512)               3277312   \n",
      "_________________________________________________________________\n",
      "dropout_8 (Dropout)          (None, 512)               0         \n",
      "_________________________________________________________________\n",
      "elu_19 (ELU)                 (None, 512)               0         \n",
      "_________________________________________________________________\n",
      "dense_13 (Dense)             (None, 50)                25650     \n",
      "_________________________________________________________________\n",
      "elu_20 (ELU)                 (None, 50)                0         \n",
      "_________________________________________________________________\n",
      "dense_14 (Dense)             (None, 1)                 51        \n",
      "=================================================================\n",
      "Total params: 3,370,197\n",
      "Trainable params: 3,370,197\n",
      "Non-trainable params: 0\n",
      "_________________________________________________________________\n"
     ]
    },
    {
     "data": {
      "text/plain": [
       "NoneType"
      ]
     },
     "execution_count": 55,
     "metadata": {},
     "output_type": "execute_result"
    }
   ],
   "source": []
  },
  {
   "cell_type": "code",
   "execution_count": null,
   "metadata": {
    "collapsed": false
   },
   "outputs": [],
   "source": [
    "from keras.models import Sequential\n",
    "from keras.layers import Flatten, Dense, Lambda\n",
    "from keras.layers import Conv2D, ELU, Dropout, Cropping2D, MaxPooling2D\n",
    "from keras.optimizers import Adam\n",
    "\n",
    "class NVidia(Trainer):    \n",
    "    \n",
    "    def __init__(self, db, rng=None, num_pcent=1.0, copy=False):\n",
    "        self.X_train, self.y_train = CreateCenterOnly(db, rng=rng, num_pcent=num_pcent, copy=copy)\n",
    "        self.params = DataBase.GetParams(db)\n",
    "\n",
    "        crop_h = self.params[CropRng] if (self.params is not None) and (CropRng in self.params) else (60, 140)\n",
    "        top_crop, bot_crop = crop_h[0], self.imshape[0] - crop_h[1]\n",
    "\n",
    "        model = Sequential()\n",
    "\n",
    "        # apply crop range\n",
    "        model.add(Cropping2D(cropping=((top_crop, bot_crop), (0, 0)), input_shape=(160, 320, 3)))\n",
    "        # Normalise the data\n",
    "        model.add(Lambda(lambda x: (x / 255.0) - 0.5))\n",
    "\n",
    "        # Conv layer 1\n",
    "        model.add(Convolution2D(16, 8, 8, subsample=(4, 4), border_mode=\"same\"))\n",
    "        model.add(ELU())\n",
    "\n",
    "        # Conv layer 2\n",
    "        model.add(Convolution2D(32, 5, 5, subsample=(2, 2), border_mode=\"same\"))\n",
    "        model.add(ELU())\n",
    "\n",
    "        # Conv layer 3\n",
    "        model.add(Convolution2D(64, 5, 5, subsample=(2, 2), border_mode=\"same\"))\n",
    "\n",
    "        model.add(Flatten())\n",
    "        model.add(Dropout(.2))\n",
    "        model.add(ELU())\n",
    "\n",
    "        # Fully connected layer 1\n",
    "        model.add(Dense(512))\n",
    "        model.add(Dropout(.5))\n",
    "        model.add(ELU())\n",
    "\n",
    "        # Fully connected layer 2\n",
    "        model.add(Dense(50))\n",
    "        model.add(ELU())\n",
    "\n",
    "        model.add(Dense(1))\n",
    "\n",
    "        adam = Adam(lr=0.0001)\n",
    "\n",
    "        model.compile(optimizer=adam, loss=\"mse\", metrics=['accuracy'])\n",
    "        self.model = model\n",
    "        model.summary()"
   ]
  },
  {
   "cell_type": "code",
   "execution_count": null,
   "metadata": {
    "collapsed": false
   },
   "outputs": [],
   "source": [
    "flipped.params"
   ]
  },
  {
   "cell_type": "code",
   "execution_count": null,
   "metadata": {
    "collapsed": true
   },
   "outputs": [],
   "source": []
  }
 ],
 "metadata": {
  "kernelspec": {
   "display_name": "Python 3",
   "language": "python",
   "name": "python3"
  },
  "language_info": {
   "codemirror_mode": {
    "name": "ipython",
    "version": 3
   },
   "file_extension": ".py",
   "mimetype": "text/x-python",
   "name": "python",
   "nbconvert_exporter": "python",
   "pygments_lexer": "ipython3",
   "version": "3.5.2"
  },
  "widgets": {
   "state": {},
   "version": "1.1.2"
  }
 },
 "nbformat": 4,
 "nbformat_minor": 0
}
